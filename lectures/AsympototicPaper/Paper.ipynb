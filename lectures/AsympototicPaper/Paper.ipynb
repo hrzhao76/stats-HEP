{
 "cells": [
  {
   "cell_type": "code",
   "execution_count": null,
   "metadata": {},
   "outputs": [],
   "source": [
    "\"\"\"\n",
    "This notebook implements all the formulars and plots from the paper:\n",
    "https://arxiv.org/pdf/1007.1727v3.pdf\n",
    "\n",
    "Author: Haoran Zhao\n",
    "\"\"\""
   ]
  },
  {
   "cell_type": "code",
   "execution_count": 1,
   "metadata": {},
   "outputs": [],
   "source": [
    "import numpy as np\n",
    "from scipy import stats\n",
    "import matplotlib.pyplot as plt\n",
    "import hist"
   ]
  },
  {
   "cell_type": "markdown",
   "metadata": {},
   "source": [
    "# Equations "
   ]
  },
  {
   "cell_type": "markdown",
   "metadata": {},
   "source": [
    "## Equation 1:"
   ]
  },
  {
   "cell_type": "code",
   "execution_count": 24,
   "metadata": {},
   "outputs": [],
   "source": [
    "def getZfromP(p: float) -> float:\n",
    "    \"\"\"Calculate the significance Z (in terms of standard deviation, i.e. sigma) from a given p-value\n",
    "\n",
    "    Args:\n",
    "        p (float): input p-value\n",
    "\n",
    "    Returns:\n",
    "        float: significance Z\n",
    "    \"\"\"\n",
    "    return stats.norm.isf(p)\n",
    "\n",
    "    # return stats.norm.ppf(1-p)"
   ]
  },
  {
   "cell_type": "code",
   "execution_count": 27,
   "metadata": {},
   "outputs": [],
   "source": [
    "def getPfromZ(Z: float) -> float:\n",
    "    \"\"\"Calculate the p-value from a given significance Z (in terms of standard deviation, i.e. sigma)\n",
    "\n",
    "    Args:\n",
    "        Z (float): input significance Z\n",
    "\n",
    "    Returns:\n",
    "        float: p-value\n",
    "    \"\"\"\n",
    "\n",
    "    return stats.norm.sf(Z)"
   ]
  },
  {
   "cell_type": "code",
   "execution_count": 30,
   "metadata": {},
   "outputs": [],
   "source": [
    "assert np.isclose(getZfromP(0.05), 1.64, atol=0.01)\n",
    "assert np.isclose(getPfromZ(5), 2.87e-7)"
   ]
  },
  {
   "cell_type": "markdown",
   "metadata": {},
   "source": [
    "## Equation 2 - 4:\n",
    "\n",
    "$$\n",
    "E\\left[n_i\\right]=\\mu s_i+b_i\n",
    "$$\n",
    "\n",
    "$$\n",
    "\\begin{aligned}\n",
    "s_i & =s_{\\mathrm{tot}} \\int_{\\mathrm{bin} i} f_s\\left(x ; \\boldsymbol{\\theta}_s\\right) d x, \\\\\n",
    "b_i & =b_{\\mathrm{tot}} \\int_{\\mathrm{bin} i} f_b\\left(x ; \\boldsymbol{\\theta}_b\\right) d x .\n",
    "\\end{aligned}\n",
    "$$\n",
    "\n",
    "$\n",
    "\\mu : \\text { signal strength },  \\\\\n",
    "s_{\\mathrm{tot}} \\text { and } b_{\\mathrm{tot}} : \\text { total mean numbers of signal and background events }, \\\\ \n",
    "f_s\\left(x ; \\boldsymbol{\\theta}_s\\right) : \\text { probability density functions(pdfs) of the variable x from the signal events },  \\\\\n",
    "f_b\\left(x ; \\boldsymbol{\\theta}_b\\right) : \\text { probability density functions(pdfs) of the variable x from the background events },  \\\\\n",
    "\\boldsymbol{\\theta}_s \\text { and } \\boldsymbol{\\theta}_b: \\text { parameters that characterize the shapes of pdfs. },  \\\\\n",
    "$\n"
   ]
  },
  {
   "cell_type": "code",
   "execution_count": null,
   "metadata": {},
   "outputs": [],
   "source": []
  }
 ],
 "metadata": {
  "kernelspec": {
   "display_name": "ml",
   "language": "python",
   "name": "python3"
  },
  "language_info": {
   "codemirror_mode": {
    "name": "ipython",
    "version": 3
   },
   "file_extension": ".py",
   "mimetype": "text/x-python",
   "name": "python",
   "nbconvert_exporter": "python",
   "pygments_lexer": "ipython3",
   "version": "3.10.10"
  }
 },
 "nbformat": 4,
 "nbformat_minor": 2
}
